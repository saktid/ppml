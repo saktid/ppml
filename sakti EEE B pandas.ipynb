{
 "cells": [
  {
   "cell_type": "code",
   "execution_count": 1,
   "id": "af7fb50d",
   "metadata": {},
   "outputs": [
    {
     "name": "stdout",
     "output_type": "stream",
     "text": [
      "Empty DataFrame\n",
      "Columns: []\n",
      "Index: []\n"
     ]
    }
   ],
   "source": [
    "import pandas as pd\n",
    "a=pd.DataFrame()\n",
    "print(a)"
   ]
  },
  {
   "cell_type": "markdown",
   "id": "69be3d6a",
   "metadata": {},
   "source": []
  },
  {
   "cell_type": "code",
   "execution_count": 16,
   "id": "68208632",
   "metadata": {},
   "outputs": [
    {
     "name": "stdout",
     "output_type": "stream",
     "text": [
      "      Emp   ID\n",
      "0  Parker  120\n",
      "1    john  121\n",
      "2  smith0  122\n",
      "0    Parker\n",
      "1      john\n",
      "2    smith0\n",
      "Name: Emp, dtype: object\n",
      "      Emp   ID  age\n",
      "0  Parker  120   29\n",
      "1    john  121   29\n",
      "2  smith0  122   30\n",
      "      Emp   ID\n",
      "0  Parker  120\n",
      "1    john  121\n",
      "2  smith0  122\n",
      "Emp    john\n",
      "ID      121\n",
      "Name: 1, dtype: object\n",
      "      Emp   ID\n",
      "1    john  121\n",
      "2  smith0  122\n"
     ]
    }
   ],
   "source": [
    "import pandas as pd\n",
    "emp=pd.Series(['Parker','john','smith0'])\n",
    "id=pd.Series([120,121,122])\n",
    "frame={'Emp':emp,'ID':id}\n",
    "result=pd.DataFrame(frame)\n",
    "print (result)\n",
    "print (result['Emp'])\n",
    "result['age']=([29,29,30])\n",
    "print (result)\n",
    "del result['age']\n",
    "print (result)\n",
    "print(result.loc[1])\n",
    "print(result[1:3])\n",
    "d2=pd.DataFrame(['dale',123],colmun['Emp','ID'])\n"
   ]
  },
  {
   "cell_type": "code",
   "execution_count": 24,
   "id": "6e82ccc3",
   "metadata": {},
   "outputs": [
    {
     "name": "stdout",
     "output_type": "stream",
     "text": [
      "   p  q\n",
      "0  2  7\n",
      "1  2  7\n",
      "2  2  7\n",
      "          p         q\n",
      "0  1.414214  2.645751\n",
      "1  1.414214  2.645751\n",
      "2  1.414214  2.645751\n",
      "p     6\n",
      "q    21\n",
      "dtype: int64\n",
      "0    9\n",
      "1    9\n",
      "2    9\n",
      "dtype: int64\n"
     ]
    }
   ],
   "source": [
    "import pandas as pd\n",
    "import numpy as np\n",
    "info=pd.DataFrame([[2,7]]*3,columns=['p','q'])\n",
    "print(info)\n",
    "print(info.apply(np.sqrt))\n",
    "print(info.apply(np.sum,axis=0))\n",
    "print(info.apply(np.sum,axis=1))"
   ]
  },
  {
   "cell_type": "code",
   "execution_count": 27,
   "id": "4c34aecc",
   "metadata": {},
   "outputs": [
    {
     "name": "stdout",
     "output_type": "stream",
     "text": [
      "   x  y  z\n",
      "0  1  2  3\n",
      "1  2  3  4\n",
      "2  3  4  5\n",
      "     x  y  z\n",
      "min  1  2  3\n",
      "max  3  4  5\n"
     ]
    }
   ],
   "source": [
    "import pandas as pd\n",
    "import numpy as np\n",
    "info=pd.DataFrame([[1,2,3],[2,3,4],[3,4,5]],columns=['x','y','z'])\n",
    "print(info)\n",
    "print(info.agg(['min','max']))\n"
   ]
  },
  {
   "cell_type": "code",
   "execution_count": 28,
   "id": "cd5063f9",
   "metadata": {},
   "outputs": [
    {
     "name": "stdout",
     "output_type": "stream",
     "text": [
      "\n",
      "DataFrame.Sort function:\n",
      "\n",
      "       col3      col4\n",
      "3  0.024072 -0.031919\n",
      "2  0.879041  1.909334\n",
      "0 -0.210002 -0.771471\n",
      "4  0.560045 -0.239297\n",
      "1 -0.256522 -0.947499\n",
      "\n",
      "Sort index:\n",
      "        col3      col4\n",
      "0 -0.210002 -0.771471\n",
      "1 -0.256522 -0.947499\n",
      "2  0.879041  1.909334\n",
      "3  0.024072 -0.031919\n",
      "4  0.560045 -0.239297\n",
      "\n",
      "Sort Values:\n",
      "        col3      col4\n",
      "1 -0.256522 -0.947499\n",
      "0 -0.210002 -0.771471\n",
      "3  0.024072 -0.031919\n",
      "4  0.560045 -0.239297\n",
      "2  0.879041  1.909334\n"
     ]
    }
   ],
   "source": [
    "print(\"\\nDataFrame.Sort function:\\n\")\n",
    "info=pd.DataFrame(np.random.randn(5,2),\n",
    "index=[3,2,0,4,1],columns = ['col3','col4'])\n",
    "print(info)\n",
    "info2=info.sort_index()\n",
    "print(\"\\nSort index:\\n\",info2)\n",
    "info3 = info.sort_values(by='col3')\n",
    "print(\"\\nSort Values:\\n\",info3)"
   ]
  },
  {
   "cell_type": "code",
   "execution_count": 29,
   "id": "449c5685",
   "metadata": {},
   "outputs": [
    {
     "name": "stdout",
     "output_type": "stream",
     "text": [
      "\n",
      "DataFrame.Merge function:\n",
      "\n",
      "   id    Name   sub\n",
      "0   1    Alex  sub1\n",
      "1   2     Amy  sub2\n",
      "2   3   Allen  sub4\n",
      "3   4   Alice  sub6\n",
      "4   5  Ayoung  sub5\n",
      "   id   Name   sub\n",
      "0   1  Billy  sub2\n",
      "1   2  Brian  sub4\n",
      "2   3   Bran  sub3\n",
      "3   4  Bryce  sub6\n",
      "4   5  Betty  sub5\n",
      "   id  Name_x sub_x Name_y sub_y\n",
      "0   1    Alex  sub1  Billy  sub2\n",
      "1   2     Amy  sub2  Brian  sub4\n",
      "2   3   Allen  sub4   Bran  sub3\n",
      "3   4   Alice  sub6  Bryce  sub6\n",
      "4   5  Ayoung  sub5  Betty  sub5\n"
     ]
    }
   ],
   "source": [
    "print(\"\\nDataFrame.Merge function:\\n\")\n",
    "left = pd.DataFrame({\n",
    "'id':[1,2,3,4,5],\n",
    "'Name': ['Alex', 'Amy', 'Allen', 'Alice', 'Ayoung'],\n",
    "'sub':['sub1','sub2','sub4','sub6','sub5']})\n",
    "right = pd.DataFrame({\n",
    "'id':[1,2,3,4,5],\n",
    "'Name': ['Billy', 'Brian', 'Bran', 'Bryce', 'Betty'],\n",
    "'sub':['sub2','sub4','sub3','sub6','sub5']})\n",
    "print(left)\n",
    "print(right)\n",
    "print(pd.merge(left,right,on='id'))"
   ]
  },
  {
   "cell_type": "code",
   "execution_count": 4,
   "id": "c6e7966c",
   "metadata": {},
   "outputs": [
    {
     "name": "stdout",
     "output_type": "stream",
     "text": [
      "0    P\n",
      "1    a\n",
      "2    n\n",
      "dtype: object\n"
     ]
    }
   ],
   "source": [
    "import pandas as pd \n",
    "import numpy as np\n",
    "a=np.array(['P','a','n'])\n",
    "b=pd.Series(a)\n",
    "print(b)"
   ]
  },
  {
   "cell_type": "code",
   "execution_count": 5,
   "id": "212b9786",
   "metadata": {},
   "outputs": [
    {
     "name": "stdout",
     "output_type": "stream",
     "text": [
      "x    0.0\n",
      "y    1.0\n",
      "z    2.0\n",
      "dtype: float64\n"
     ]
    }
   ],
   "source": [
    "import pandas as pd\n",
    "import numpy as np\n",
    "a={'x':0.,'y':1.,'z':2.}\n",
    "b=pd.Series(a)\n",
    "print (b)"
   ]
  },
  {
   "cell_type": "code",
   "execution_count": 6,
   "id": "9b40db47",
   "metadata": {},
   "outputs": [
    {
     "name": "stdout",
     "output_type": "stream",
     "text": [
      "0    4\n",
      "1    4\n",
      "2    4\n",
      "3    4\n",
      "dtype: int64\n"
     ]
    }
   ],
   "source": [
    "import pandas as pd\n",
    "import numpy as np\n",
    "a=pd.Series(4, index=[0,1,2,3])\n",
    "print(a)"
   ]
  },
  {
   "cell_type": "code",
   "execution_count": 7,
   "id": "e961485f",
   "metadata": {},
   "outputs": [
    {
     "name": "stdout",
     "output_type": "stream",
     "text": [
      "a    1\n",
      "b    2\n",
      "c    3\n",
      "dtype: int64\n"
     ]
    }
   ],
   "source": [
    "import pandas as pd \n",
    "import numpy as np\n",
    "a=pd.Series([1,2,3],index=['a','b','c'])\n",
    "print (a)"
   ]
  },
  {
   "cell_type": "code",
   "execution_count": null,
   "id": "ba7ab518",
   "metadata": {},
   "outputs": [],
   "source": []
  }
 ],
 "metadata": {
  "kernelspec": {
   "display_name": "Python 3 (ipykernel)",
   "language": "python",
   "name": "python3"
  },
  "language_info": {
   "codemirror_mode": {
    "name": "ipython",
    "version": 3
   },
   "file_extension": ".py",
   "mimetype": "text/x-python",
   "name": "python",
   "nbconvert_exporter": "python",
   "pygments_lexer": "ipython3",
   "version": "3.9.12"
  }
 },
 "nbformat": 4,
 "nbformat_minor": 5
}
